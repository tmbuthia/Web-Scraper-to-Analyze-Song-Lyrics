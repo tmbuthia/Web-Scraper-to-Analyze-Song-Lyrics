{
 "cells": [
  {
   "cell_type": "code",
   "execution_count": null,
   "id": "e3b57104",
   "metadata": {},
   "outputs": [],
   "source": [
    "1. Project Overview\n",
    "Include a brief project summary at the beginning:\n",
    "\n",
    "Objective: To build a web scraper that extracts song lyrics for a specified artist, with data saved in a structured format.\n",
    "Output: A CSV file containing information on songs, including artist name, album, song title, song URL, lyrics, and word count"
   ]
  },
  {
   "cell_type": "code",
   "execution_count": 5,
   "id": "4e9649b1",
   "metadata": {},
   "outputs": [],
   "source": [
    "\"\"\"\n",
    "Web Scraper for Song Lyrics\n",
    "\n",
    "This script scrapes song lyrics for a specified artist from songlyrics.com.\n",
    "The data includes artist name, song title, song URL, lyrics, and word count.\n",
    "It visualizes the word count distribution in a histogram.\n",
    "\"\"\"\n",
    "\n",
    "import requests\n",
    "from bs4 import BeautifulSoup\n",
    "import pandas as pd\n",
    "import matplotlib.pyplot as plt"
   ]
  },
  {
   "cell_type": "markdown",
   "id": "df11233b",
   "metadata": {},
   "source": [
    "2. Modularize the Code\n",
    "Separate each logical task into individual functions to improve readability and reusability. This also makes testing and debugging easier.\n",
    "\n",
    "A. Function to Build URL for Artist\n",
    "This function generates the URL for the artist’s page, keeping it modular and flexible for different artists."
   ]
  },
  {
   "cell_type": "code",
   "execution_count": 7,
   "id": "907741d4",
   "metadata": {},
   "outputs": [],
   "source": [
    "def build_artist_url(artist):\n",
    "    \"\"\"Generates the URL for the given artist's song page.\"\"\"\n",
    "    return f\"https://www.songlyrics.com/{artist.replace(' ', '-')}-lyrics/\""
   ]
  },
  {
   "cell_type": "markdown",
   "id": "420793e7",
   "metadata": {},
   "source": [
    "B. Function to Get Artist Data (Songs and Links)\n",
    "Improve error handling by raising exceptions and providing clearer messages. Use a DataFrame directly, as this makes data manipulation easier in the later steps."
   ]
  },
  {
   "cell_type": "code",
   "execution_count": 8,
   "id": "970a9ca1",
   "metadata": {},
   "outputs": [],
   "source": [
    "def get_artist_data(artist):\n",
    "    \"\"\"Fetches song titles and links for a specified artist from songlyrics.com.\"\"\"\n",
    "    url = build_artist_url(artist)\n",
    "    response = requests.get(url)\n",
    "    if response.status_code != 200:\n",
    "        print(f\"Failed to retrieve data for {artist}. Status code: {response.status_code}\")\n",
    "        return None\n",
    "    \n",
    "    soup = BeautifulSoup(response.content, \"html.parser\")\n",
    "    table = soup.find(\"table\", class_=\"tracklist\")\n",
    "    if not table:\n",
    "        print(f\"No songs found for {artist}.\")\n",
    "        return None\n",
    "    \n",
    "    artist_data = []\n",
    "    rows = table.find_all(\"tr\")[1:11]  # Fetching only the first 10 rows to avoid rate limiting\n",
    "    for row in rows:\n",
    "        cells = row.find_all(\"td\")\n",
    "        if cells:\n",
    "            song_info = cells[1].find(\"a\")\n",
    "            if song_info:\n",
    "                song_title = song_info.text.strip()\n",
    "                song_link = song_info[\"href\"]\n",
    "                artist_data.append({\"artist\": artist, \"song_title\": song_title, \"song_link\": song_link})\n",
    "    \n",
    "    return pd.DataFrame(artist_data)\n"
   ]
  },
  {
   "cell_type": "markdown",
   "id": "81ac5d5c",
   "metadata": {},
   "source": [
    "C. Function to Get Lyrics and Process Data\n",
    "The function get_lyrics fetches lyrics from a given song URL. process_artist calls both get_artist_data and get_lyrics, creating a DataFrame with lyrics data and word counts."
   ]
  },
  {
   "cell_type": "code",
   "execution_count": 9,
   "id": "7f5969dd",
   "metadata": {},
   "outputs": [],
   "source": [
    "def get_lyrics(song_url):\n",
    "    \"\"\"Fetches lyrics from a song URL on songlyrics.com.\"\"\"\n",
    "    response = requests.get(song_url)\n",
    "    if response.status_code != 200:\n",
    "        print(f\"Failed to retrieve lyrics for {song_url}. Status code: {response.status_code}\")\n",
    "        return None\n",
    "    \n",
    "    soup = BeautifulSoup(response.content, \"html.parser\")\n",
    "    lyrics_div = soup.find(\"p\", class_=\"songLyricsV14\")\n",
    "    return lyrics_div.get_text(separator=\"\\n\").strip() if lyrics_div else \"\"\n",
    "\n",
    "def process_artist(artist):\n",
    "    \"\"\"Processes all songs for an artist to collect title, link, lyrics, and word count.\"\"\"\n",
    "    artist_data = get_artist_data(artist)\n",
    "    if artist_data is None:\n",
    "        return None\n",
    "    \n",
    "    all_lyrics = []\n",
    "    for _, row in artist_data.iterrows():\n",
    "        lyrics = get_lyrics(row['song_link'])\n",
    "        if lyrics:\n",
    "            word_count = len(lyrics.split())\n",
    "            all_lyrics.append((row['artist'], row['song_title'], row['song_link'], lyrics, word_count))\n",
    "    \n",
    "    return pd.DataFrame(all_lyrics, columns=['artist', 'song_title', 'song_link', 'lyrics', 'word_count'])\n"
   ]
  },
  {
   "cell_type": "markdown",
   "id": "08530c39",
   "metadata": {},
   "source": [
    "D. Example Implementation\n",
    "Provide an example with error handling to avoid interruptions if the site blocks requests."
   ]
  },
  {
   "cell_type": "code",
   "execution_count": 11,
   "id": "c65fab8a",
   "metadata": {},
   "outputs": [
    {
     "name": "stdout",
     "output_type": "stream",
     "text": [
      "    artist                  song_title  \\\n",
      "0  Beyonce                Naughty Girl   \n",
      "1  Beyonce             Me Myself And I   \n",
      "2  Beyonce       Dangerously in Love 2   \n",
      "3  Beyonce                 Trust In Me   \n",
      "4  Beyonce  Baby Boy (feat. Sean Paul)   \n",
      "\n",
      "                                           song_link  \\\n",
      "0  https://www.songlyrics.com/beyonce/naughty-gir...   \n",
      "1  https://www.songlyrics.com/beyonce/me-myself-a...   \n",
      "2  https://www.songlyrics.com/beyonce/dangerously...   \n",
      "3  https://www.songlyrics.com/beyonce/trust-in-me...   \n",
      "4  https://www.songlyrics.com/beyonce/baby-boy-fe...   \n",
      "\n",
      "                                              lyrics  word_count  \n",
      "0  I'm feelin' sexy\\n\\r\\nI wanna hear you say my ...         313  \n",
      "1  All the ladies, if you feel me\\n\\r\\nHelp me si...         644  \n",
      "2  Baby I love you\\n\\r\\nYou are my life\\n\\r\\nMy h...         264  \n",
      "3  Trust in me in all you do, have the faith I ha...         205  \n",
      "4  (Sean Paul:)\\n\\r\\nCertified quality\\n\\r\\nA dat...         626  \n"
     ]
    }
   ],
   "source": [
    "artist = 'Beyonce'\n",
    "try:\n",
    "    beyonce_df = process_artist(artist)\n",
    "    if beyonce_df is not None:\n",
    "        beyonce_df.to_csv(f'{artist}_lyrics_data.csv', index=False)\n",
    "        print(beyonce_df.head())\n",
    "except Exception as e:\n",
    "    print(f\"Error processing data for {artist}: {e}\")\n"
   ]
  },
  {
   "cell_type": "markdown",
   "id": "6a5311f3",
   "metadata": {},
   "source": [
    "3. Visualization: Word Count Distribution\n",
    "Enhance the histogram visualization with custom colors and grid lines for clarity."
   ]
  },
  {
   "cell_type": "code",
   "execution_count": 12,
   "id": "ee2a6a41",
   "metadata": {},
   "outputs": [
    {
     "data": {
      "image/png": "[encoded data removed]",
      "text/plain": [
       "<Figure size 1000x600 with 1 Axes>"
      ]
     },
     "metadata": {},
     "output_type": "display_data"
    }
   ],
   "source": [
    "def plot_word_distribution(df, artist):\n",
    "    \"\"\"Plots a histogram of word counts in songs for the given artist.\"\"\"\n",
    "    plt.figure(figsize=(10, 6))\n",
    "    plt.hist(df['word_count'], bins=20, color='skyblue', edgecolor='black')\n",
    "    plt.title(f'Word Count Distribution in {artist} Songs')\n",
    "    plt.xlabel('Word Count')\n",
    "    plt.ylabel('Frequency')\n",
    "    plt.grid(axis='y', alpha=0.75)\n",
    "    plt.show()\n",
    "\n",
    "# Call the plot function\n",
    "if beyonce_df is not None:\n",
    "    plot_word_distribution(beyonce_df, artist)\n"
   ]
  },
  {
   "cell_type": "code",
   "execution_count": null,
   "id": "41a721bb",
   "metadata": {},
   "outputs": [],
   "source": []
  }
 ],
 "metadata": {
  "kernelspec": {
   "display_name": "Python 3 (ipykernel)",
   "language": "python",
   "name": "python3"
  },
  "language_info": {
   "codemirror_mode": {
    "name": "ipython",
    "version": 3
   },
   "file_extension": ".py",
   "mimetype": "text/x-python",
   "name": "python",
   "nbconvert_exporter": "python",
   "pygments_lexer": "ipython3",
   "version": "3.11.5"
  }
 },
 "nbformat": 4,
 "nbformat_minor": 5
}
